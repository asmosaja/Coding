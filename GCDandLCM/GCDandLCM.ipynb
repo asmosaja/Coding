{
 "cells": [
  {
   "attachments": {},
   "cell_type": "markdown",
   "metadata": {},
   "source": [
    "Python Programs on GCD and LCM\n"
   ]
  },
  {
   "attachments": {},
   "cell_type": "markdown",
   "metadata": {},
   "source": [
    "Python Program to Find the LCM of Two Numbers\n",
    "\n",
    "Python Program to Find the GCD of Two Numbers\n",
    "\n",
    "Python Program to Find the GCD of Two Numbers using Recursion\n",
    "\n",
    "Python Program to Find the LCM of Two Numbers using Recursion"
   ]
  },
  {
   "attachments": {},
   "cell_type": "markdown",
   "metadata": {},
   "source": [
    "1. Python Program to Find the LCM of Two Numbers"
   ]
  },
  {
   "cell_type": "code",
   "execution_count": 7,
   "metadata": {},
   "outputs": [
    {
     "name": "stdout",
     "output_type": "stream",
     "text": [
      "LCM of a and  b values is 72\n"
     ]
    }
   ],
   "source": [
    "def computeLCM(a,b):\n",
    "    if a>b:\n",
    "        higher =a\n",
    "    else:\n",
    "        higher = b\n",
    "    value = higher\n",
    "    while True:\n",
    "        if higher%a == 0 and higher %b==0:\n",
    "            print('LCM of a and  b values is',higher)\n",
    "            break\n",
    "        else:\n",
    "            higher = higher + value\n",
    "\n",
    "n1 = 24\n",
    "n2 = 36\n",
    "\n",
    "computeLCM(24,36)\n",
    "    "
   ]
  },
  {
   "attachments": {},
   "cell_type": "markdown",
   "metadata": {},
   "source": [
    "2.Python Program to Find the LCM of Two Numbers using recursion"
   ]
  },
  {
   "cell_type": "code",
   "execution_count": 16,
   "metadata": {},
   "outputs": [
    {
     "name": "stdout",
     "output_type": "stream",
     "text": [
      "72.0\n"
     ]
    }
   ],
   "source": [
    "def computeGCD(a,b):\n",
    "\n",
    "    if b==0:\n",
    "        return a\n",
    "    else:\n",
    "        return computeGCD(b,a%b)#EUCLID'S ALGORITHM\n",
    "a=24\n",
    "b=36  \n",
    "lcm = (a*b)/computeGCD(a,b)\n",
    "\n",
    "print(lcm)"
   ]
  },
  {
   "attachments": {},
   "cell_type": "markdown",
   "metadata": {},
   "source": [
    "3.Python Program to Find the GCD of Two Numbers "
   ]
  },
  {
   "cell_type": "code",
   "execution_count": 15,
   "metadata": {},
   "outputs": [
    {
     "data": {
      "text/plain": [
       "6"
      ]
     },
     "execution_count": 15,
     "metadata": {},
     "output_type": "execute_result"
    }
   ],
   "source": [
    "def computelcm(a,b):\n",
    "    \n",
    "    if a<b:\n",
    "        smaller =  a\n",
    "    else:\n",
    "        smaller =b\n",
    "\n",
    "    for i in range(1,smaller+1):\n",
    "        if(a%i==0 and b%i ==0 ):\n",
    "            hcf = i\n",
    "    return hcf\n",
    "computelcm(54,24)\n",
    "\n"
   ]
  },
  {
   "attachments": {},
   "cell_type": "markdown",
   "metadata": {},
   "source": [
    "In the function, we first determine the smaller of the two numbers since the H.C.F can only be less than or equal to the smallest number. We then use a for loop to go from 1 to that number.\n",
    "\n",
    "In each iteration, we check if our number perfectly divides both the input numbers. If so, we store the number as H.C.F. At the completion of the loop, we end up with the largest number that perfectly divides both the numbers.\n",
    "\n",
    "The above method is easy to understand and implement but not efficient. A much more efficient method to find the H.C.F. is the Euclidean algorithm."
   ]
  },
  {
   "attachments": {},
   "cell_type": "markdown",
   "metadata": {},
   "source": [
    "4.Python program to find GCD of two positive numbers using recursion"
   ]
  },
  {
   "attachments": {},
   "cell_type": "markdown",
   "metadata": {},
   "source": [
    "Here we loop until y becomes zero. The statement x, y = y, x % y does swapping of values in Python. \n",
    "\n",
    "In each iteration, we place the value of y in x and the remainder (x % y) in y, simultaneously. When y becomes zero, we have H.C.F. in x."
   ]
  },
  {
   "attachments": {},
   "cell_type": "markdown",
   "metadata": {},
   "source": [
    "Time complexity:  O(log(min(a,b))), as it uses the Euclidean Algorithm for finding the GCD.\n",
    "Auxiliary Space: O(log(n)), as it uses recursion and the maximum depth of recursion is log(n)."
   ]
  },
  {
   "cell_type": "code",
   "execution_count": 10,
   "metadata": {},
   "outputs": [
    {
     "data": {
      "text/plain": [
       "2"
      ]
     },
     "execution_count": 10,
     "metadata": {},
     "output_type": "execute_result"
    }
   ],
   "source": [
    "def computeGCD(a,b):\n",
    "\n",
    "    if b==0:\n",
    "        return a\n",
    "    else:\n",
    "        return computeGCD(b,a%b)#EUCLID'S ALGORITHM\n",
    "computeGCD(4,18)"
   ]
  },
  {
   "attachments": {},
   "cell_type": "markdown",
   "metadata": {},
   "source": [
    "5. python program to calculate the lcm using gcd"
   ]
  },
  {
   "cell_type": "code",
   "execution_count": 14,
   "metadata": {},
   "outputs": [
    {
     "name": "stdout",
     "output_type": "stream",
     "text": [
      "72.0\n"
     ]
    }
   ],
   "source": [
    "def computeGCD(a,b):\n",
    "\n",
    "    if b==0:\n",
    "        return a\n",
    "    else:\n",
    "        return computeGCD(b,a%b)#EUCLID'S ALGORITHM\n",
    "a=24\n",
    "b=36  \n",
    "lcm = (a*b)/computeGCD(a,b)\n",
    "\n",
    "print(lcm)\n"
   ]
  },
  {
   "cell_type": "markdown",
   "metadata": {},
   "source": []
  }
 ],
 "metadata": {
  "kernelspec": {
   "display_name": "Python 3",
   "language": "python",
   "name": "python3"
  },
  "language_info": {
   "codemirror_mode": {
    "name": "ipython",
    "version": 3
   },
   "file_extension": ".py",
   "mimetype": "text/x-python",
   "name": "python",
   "nbconvert_exporter": "python",
   "pygments_lexer": "ipython3",
   "version": "3.10.4"
  },
  "orig_nbformat": 4
 },
 "nbformat": 4,
 "nbformat_minor": 2
}
